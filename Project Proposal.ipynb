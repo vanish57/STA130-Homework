{
 "cells": [
  {
   "cell_type": "markdown",
   "id": "15e1276b",
   "metadata": {},
   "source": [
    "# Research Question 1"
   ]
  },
  {
   "cell_type": "markdown",
   "id": "19857460",
   "metadata": {},
   "source": [
    "How does interacting with your neighbours affect your sense of preparedness in emergencies?"
   ]
  },
  {
   "cell_type": "markdown",
   "id": "aae7e7f8",
   "metadata": {},
   "source": [
    "## Hypothesis 1"
   ]
  },
  {
   "cell_type": "markdown",
   "id": "8623b5b7",
   "metadata": {},
   "source": [
    "People who frequently interact with their neighbors experience greater food security, as these social connections may provide additional support or access to resources in times of need. This may have a greater affect on the people in more rural places that have tigher communities."
   ]
  },
  {
   "cell_type": "markdown",
   "id": "736328d2",
   "metadata": {},
   "source": [
    "## Variables 1"
   ]
  },
  {
   "cell_type": "markdown",
   "id": "c37a4126",
   "metadata": {},
   "source": [
    "**Neighbor Interaction Variables**:\n",
    "   - **`CONNECTION_social_days_neighbours_p7d_grouped`**: Number of days spent interacting with neighbors in the past week. This variable indicates the frequency of neighborly interactions, potentially reflecting the strength of local social connections.\n",
    "   - **`CONNECTION_social_time_neighbours_p7d_grouped`**: Total hours spent with neighbors in the past week, providing additional context on the depth of these interactions and potentially indicating a more supportive network.\n",
    "\n",
    "**Food Security Variables**:\n",
    "   - **`NUTRITION_food_security_cannot_afford_balanced_meal`**: Reflects instances of respondents being unable to afford a balanced meal, a direct measure of food insecurity.\n",
    "   - **`NUTRITION_food_security_ate_unwanted_food_due_to_lack_of_money`**: Indicates instances where respondents ate less preferred foods due to financial constraints, another indicator of limited resources.\n",
    "   - **`NUTRITION_food_security_cut_skipped_meals_no_money`**: Captures instances where respondents had to cut or skip meals because of financial limitations.\n",
    "   - **`NUTRITION_food_security_ate_less_due_to_lack_of_money`**: Reflects occasions where respondents ate less than they needed due to financial hardship.\n",
    "   - **`NUTRITION_food_security_hungry_no_eat_no_money`**: Measures instances where respondents went hungry because they couldn’t afford food.\n",
    "\n",
    "**Contextual Variable**:\n",
    "   - **`GEO_location_type`**: This variable categorizes respondents' location (e.g., urban, suburban, rural). It allows us to examine whether the impact of neighbor interactions on food security differs across these settings, as rural communities may rely more heavily on neighborly support in times of need."
   ]
  },
  {
   "cell_type": "markdown",
   "id": "fabd7ff2",
   "metadata": {},
   "source": [
    "## Analysis 1"
   ]
  },
  {
   "cell_type": "markdown",
   "id": "277af917",
   "metadata": {},
   "source": [
    "Assumption 1: We are assuming that frequent interactions with neighbors can positively impact food security, perhaps by offering food support, sharing meals, or providing informal financial aid. This assumption is critical to interpret any observed association between neighbor interactions and improved food security as a causal or supportive relationship. The issue with this is that food security is influenced by multiple factors, such as income, employment, and personal support networks beyond neighbors, which may have a more direct impact than neighbor interactions.\n",
    "\n",
    "Assumption 2: We assume that people who interact with their neighbors frequently or for longer periods likely have stronger, more trusting relationships. This is essential to conclude that such relationships could translate into tangible support during times of need. This assumption may not always be true, as high interaction does not guarantee high trust or willingness to support one another."
   ]
  },
  {
   "cell_type": "markdown",
   "id": "be23ccfb",
   "metadata": {},
   "source": [
    "Perform separate simple linear regressions for each food security outcome variable (`NUTRITION_food_security_cannot_afford_balanced_meal`, `NUTRITION_food_security_cut_skipped_meals_no_money`, etc.) using each neighbor interaction variable (`CONNECTION_social_days_neighbours_p7d_grouped` and `CONNECTION_social_time_neighbours_p7d_grouped`) as predictors. This will help identify specific food security outcomes that are most closely associated with either frequency or depth of neighbor interactions.\n",
    "\n",
    "Then, conduct a moderated regression analysis by adding `GEO_location_type` (e.g., urban, suburban, rural) as a moderator to examine whether the relationship between neighbor interactions and food security outcomes differs by geographic context.\n",
    "\n",
    "Finally use analysis of variance to compare mean food security scores across these groups. This will hopefully reveal any threshold effects, where specific levels of interaction are necessary to influence food security."
   ]
  },
  {
   "cell_type": "markdown",
   "id": "04e4efbc",
   "metadata": {},
   "source": [
    "After doing the analysis, visualizing the data might look different depending on the results, but a possible way to do so might be to create scatter plots for each significant food security outcome against the corresponding neighbor interaction measure (frequency or depth). Overlay regression lines on each plot to show the trend and strength of association. \n",
    "It honestly kind of depends on what kind results we find, if any. \n",
    "\n",
    "The results might help to identify some correlation, highlight geographic differences, and contextualize one of the benefits of neighbourly interactions."
   ]
  },
  {
   "cell_type": "markdown",
   "id": "c0a3cb59",
   "metadata": {},
   "source": [
    "# Research Question 2"
   ]
  },
  {
   "cell_type": "markdown",
   "id": "f2ed743b",
   "metadata": {},
   "source": [
    "How does having the diversity of a social network (including family, friends, coworkers, and neighbors) affect a person’s ability to manage life stress?"
   ]
  },
  {
   "cell_type": "markdown",
   "id": "393caa1d",
   "metadata": {},
   "source": [
    "## Hypothesis 2"
   ]
  },
  {
   "cell_type": "markdown",
   "id": "06d93074",
   "metadata": {},
   "source": [
    "People who engage with a diverse social network - which would mean interacting with family, friends, coworkers, and neighbors — report lower levels of life stress due to the variety of social support types available to them. "
   ]
  },
  {
   "cell_type": "markdown",
   "id": "25222a1a",
   "metadata": {},
   "source": [
    "## Variables 2"
   ]
  },
  {
   "cell_type": "markdown",
   "id": "2d23e590",
   "metadata": {},
   "source": [
    "**Social Interaction Diversity Variables:**\n",
    "   - **`CONNECTION_social_time_family_p7d_grouped`**: Hours spent with family over the past week.\n",
    "   - **`CONNECTION_social_time_friends_p7d_grouped`**: Hours spent with friends over the past week, indicating time spent with friends.\n",
    "   - **`CONNECTION_social_time_coworkers_and_classmates_p7d_grouped`**: Hours spent with coworkers or classmates over the past week.\n",
    "   - **`CONNECTION_social_time_neighbours_p7d_grouped`**: Hours spent with neighbors in the past week.\n",
    "   \n",
    "All of these variables would create different types of emotional and personal support for a person.\n",
    "\n",
    "**Stress Level Variables:**\n",
    "   - **`MENTAL_health_stress_score`**: A direct measure of self-reported stress levels, capturing general life stress.\n",
    "   - **`PSYCH_positive_and_negative_affect_scale_distressed`**: Part of an affect scale measuring levels of distress, which could capture broader negative emotions and stress levels.\n",
    "   - **`ORIGINAL_social_life_affect_distressed`**: Measures feelings of distress in relation to social life, which could highlight stress associated with social interactions or social support gaps.\n",
    "\n",
    "**Contextual Variable:**\n",
    "   - **`JOB_school_status`**: This variable indicates if the individual is a student, working, or both, allowing us to segment high-stress versus low-stress groups to examine if diverse interactions are especially beneficial in stressful environments."
   ]
  },
  {
   "cell_type": "markdown",
   "id": "5875c6bc",
   "metadata": {},
   "source": [
    "## Analysis 2"
   ]
  },
  {
   "cell_type": "markdown",
   "id": "c22a8c5d",
   "metadata": {},
   "source": [
    "Assumption 1: We assume that individuals who interact with a range of social groups (family, friends, coworkers, and neighbors) have access to a broader array of support, which helps buffer against life stress. Unfortunately this may not hold if interactions are not meaningful or supportive.\n",
    "\n",
    "Assumption 2: We assume that varied support types are particularly useful for those under significant stress. But this might not hold if personal factors, like someone being an introvert, reduce reliance on social diversity, because there exist people who only need a couple of people to talk to and they are completely fine from that."
   ]
  },
  {
   "cell_type": "markdown",
   "id": "ce495042",
   "metadata": {},
   "source": [
    "Perform individual simple linear regressions between each social interaction variable (`CONNECTION_social_time_family_p7d_grouped`, `CONNECTION_social_time_friends_p7d_grouped`, etc.) and the stress level variables (`MENTAL_health_stress_score`, `SELF_REPORTED_stress_level`). This step will help identify which specific social interactions are associated with reduced stress. \n",
    "\n",
    "Create a composite “social diversity score” by calculating the total number of social groups with whom the individual interacts (e.g., 0–4 based on time spent with family, friends, coworkers, and neighbors). Try to find a correlation between this diversity score and stress level variables to assess if higher social diversity is associated with lower stress.\n",
    "\n",
    "Categorize individuals into groups based on social diversity (e.g., low, medium, high) and preform an analysis of variance test to compare mean stress levels across these groups. This could identify any threshold effects, such as a minimum number of social groups needed to significantly reduce stress."
   ]
  },
  {
   "cell_type": "markdown",
   "id": "aadc98dd",
   "metadata": {},
   "source": [
    "There are a couple of possible ways to visualize this data, but once again it kind of depends on the results. We could create a bar chart displaying regression coefficients for each social group variable against stress level. This could show which social groups are most strongly associated with stress reduction.\n",
    "\n",
    "We could also create scatter plots with regression lines for each significant association between a social interaction variable and stress, which may help to illustrate the relationship between time spent with each social group and stress levels, making the impact of each type of interaction clearer.\n",
    "\n",
    "The results might help to identify if engaging with diverse social networks offers a “social cushion” effect, helping to buffer against life stress."
   ]
  },
  {
   "cell_type": "markdown",
   "id": "bea833f6",
   "metadata": {},
   "source": [
    "# Research Question 3"
   ]
  },
  {
   "cell_type": "markdown",
   "id": "94c68be3",
   "metadata": {},
   "source": [
    "How does time spent with coworkers or classmates affect overall life satisfaction, illustrated through work-life balance?"
   ]
  },
  {
   "cell_type": "markdown",
   "id": "2e172948",
   "metadata": {},
   "source": [
    "## Hypothesis 3"
   ]
  },
  {
   "cell_type": "markdown",
   "id": "5703e5c9",
   "metadata": {},
   "source": [
    "Individuals who spend moderate amounts of time with coworkers or classmates report higher life satisfaction, suggesting that a balanced level of professional or academic interactions contributes to a healthier work-life balance and overall well-being."
   ]
  },
  {
   "cell_type": "markdown",
   "id": "11856bad",
   "metadata": {},
   "source": [
    "## Variables 3"
   ]
  },
  {
   "cell_type": "markdown",
   "id": "001fe4a7",
   "metadata": {},
   "source": [
    "**Life Satisfaction Variable**:\n",
    "   - **`WELLNESS_life_satisfaction`**: Captures life satisfaction. This is a direct measure of general life satisfaction, which can be used to assess overall well-being.\n",
    "\n",
    "**Coworker Interaction Variables**:\n",
    "   - **`CONNECTION_social_days_coworkers_and_classmates_p7d_grouped`**: Number of days spent with coworkers or classmates in the past week, providing an additional measure of interaction frequency beyond total hours.\n",
    "   - **`CONNECTION_social_num_coworkers_and_classmates_p7d_grouped`**: Number of coworkers or classmates interacted with in the past week, which could indicate the size of the professional network.\n",
    "\n",
    "**Work-Related Variables**:\n",
    "   - **`WORK_hours_per_week`**: Captures average weekly work hours, which can be a proxy for work-life balance. Higher work hours may indicate a more demanding work-life dynamic, impacting satisfaction.\n",
    "   - **`CONNECTION_activities_meeting_work_p3m`**: Reflects the frequency of work-related meetings over the past three months. This variable may indirectly contribute to understanding professional interactions that impact work-life balance."
   ]
  },
  {
   "cell_type": "markdown",
   "id": "d013c387",
   "metadata": {},
   "source": [
    "## Analysis 3"
   ]
  },
  {
   "cell_type": "markdown",
   "id": "edfcca67",
   "metadata": {},
   "source": [
    "Assumption 1: We assume that the hours spent with coworkers primarily reflect work-focused interactions rather than social interactions, contributing to a balanced work-life experience rather than adding to personal satisfaction. This may not hold if interactions are largely social.\n",
    "\n",
    "Assumption 2: Life satisfaction reflects both personal and work-related contentment, making it a valid indicator of work-life balance. This issue is that this might not apply if personal factors dominate personal satisfaction."
   ]
  },
  {
   "cell_type": "markdown",
   "id": "b45c472c",
   "metadata": {},
   "source": [
    "Conduct a quadratic regression analysis to test if life satisfaction peaks at moderate levels of coworker interaction and declines at both low and high levels, indicating an optimal work-life balance point. Also perform a simple linear regression to test if there’s a straightforward positive or negative relationship between coworker/classmate interaction hours and life satisfaction, exploring a linear work-life satisfaction link.\n",
    "\n",
    "Group respondents by coworker/classmate interaction time (e.g., low, moderate, high) and use analysis of variance to compare life satisfaction scores across these groups. This can reveal if moderate interaction levels are associated with better work-life balance and satisfaction."
   ]
  },
  {
   "cell_type": "markdown",
   "id": "28e9d054",
   "metadata": {},
   "source": [
    "As I've said before, the way to visualize the data might depend entirely on what kind of connections we manage to find, but here are some ways that we might visualize the data:\n",
    "\n",
    "- We could try to plot a line graph of life satisfaction against coworker/classmate interaction hours with a quadratic regression line to hopefully illustrate any “inverted U-shape,” suggesting an optimal balance point between those two.\n",
    "- If the data doesn't show that, we could try to create a scatter plot with life satisfaction on the y-axis and interaction hours on the x-axis, showing the trend in relation to work-life satisfaction.\n",
    "- It might also be good to create a bar graph in order to display average life satisfaction scores across low, moderate, and high interaction groups to visualize how work-life balance varies with interaction time.\n",
    "\n",
    "Either way the results will clarify if moderate professional interactions support both life satisfaction and work-life balance, highlighting any optimal engagement level for well-being"
   ]
  }
 ],
 "metadata": {
  "kernelspec": {
   "display_name": "Python 3 (ipykernel)",
   "language": "python",
   "name": "python3"
  },
  "language_info": {
   "codemirror_mode": {
    "name": "ipython",
    "version": 3
   },
   "file_extension": ".py",
   "mimetype": "text/x-python",
   "name": "python",
   "nbconvert_exporter": "python",
   "pygments_lexer": "ipython3",
   "version": "3.11.6"
  }
 },
 "nbformat": 4,
 "nbformat_minor": 5
}
